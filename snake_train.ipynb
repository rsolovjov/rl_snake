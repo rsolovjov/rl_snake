{
 "cells": [
  {
   "cell_type": "markdown",
   "id": "25b32eb2-a7bc-4ed2-9948-15284a92478b",
   "metadata": {},
   "source": [
    "# Import"
   ]
  },
  {
   "cell_type": "code",
   "execution_count": 1,
   "id": "65fb23d2-dc34-4d8e-b064-b4a92a4a3dba",
   "metadata": {},
   "outputs": [
    {
     "name": "stderr",
     "output_type": "stream",
     "text": [
      "/opt/homebrew/Caskroom/miniforge/base/lib/python3.10/site-packages/tqdm/auto.py:21: TqdmWarning: IProgress not found. Please update jupyter and ipywidgets. See https://ipywidgets.readthedocs.io/en/stable/user_install.html\n",
      "  from .autonotebook import tqdm as notebook_tqdm\n"
     ]
    }
   ],
   "source": [
    "#import gym\n",
    "import gymnasium as gym\n",
    "from gymnasium import spaces\n",
    "import numpy as np\n",
    "\n",
    "import torch as th\n",
    "import torch.nn as nn\n",
    "\n",
    "import math\n",
    "\n",
    "from stable_baselines3 import PPO\n",
    "# Bring in the eval policy method for metric calculation\n",
    "from stable_baselines3.common.evaluation import evaluate_policy\n",
    "# Import the sb3 monitor for logging \n",
    "from stable_baselines3.common.monitor import Monitor\n",
    "# Import the vec wrappers to vectorize and frame stack\n",
    "from stable_baselines3.common.vec_env import DummyVecEnv, VecFrameStack\n",
    "# Import base callback \n",
    "from stable_baselines3.common.callbacks import BaseCallback\n",
    "from stable_baselines3.common.env_checker import check_env\n",
    "\n",
    "# Importing the optimzation frame - HPO\n",
    "import optuna\n",
    "# Import os to deal with filepaths\n",
    "import os\n",
    "\n",
    "from snake_game import Snake\n",
    "from env import SnakeCnnEnv"
   ]
  },
  {
   "cell_type": "markdown",
   "id": "32320a23-f4d1-42cf-888b-2bbda00252ad",
   "metadata": {},
   "source": [
    "# Dirs"
   ]
  },
  {
   "cell_type": "code",
   "execution_count": 2,
   "id": "77e336a2-8e2a-4fc7-835c-a7d2d8e48506",
   "metadata": {},
   "outputs": [],
   "source": [
    "LOG_DIR = './logs/'\n",
    "OPT_DIR = './opt/'\n",
    "TRAIN_DIR = './train/'\n",
    "SAVE_PATH = os.path.join(OPT_DIR, 'trial_{}_best_model'.format(1))\n",
    "CHECKPOINT_DIR = './train/'"
   ]
  },
  {
   "cell_type": "markdown",
   "id": "8f085d8a-5527-465a-a4fc-4dcf722365cb",
   "metadata": {},
   "source": [
    "# Check Enviroment "
   ]
  },
  {
   "cell_type": "code",
   "execution_count": 3,
   "id": "2f034f05-e16b-4f98-aa8f-6a66b0fcf768",
   "metadata": {},
   "outputs": [],
   "source": [
    "#Check enviroment\n",
    "env = SnakeCnnEnv()\n",
    "check_env(env)"
   ]
  },
  {
   "cell_type": "markdown",
   "id": "0b9bbb7a-a178-430e-a190-e11b23168157",
   "metadata": {},
   "source": [
    "# Hyperparameter tune"
   ]
  },
  {
   "cell_type": "code",
   "execution_count": 4,
   "id": "06291d96-c8af-4f35-aebd-37be84961f0c",
   "metadata": {},
   "outputs": [],
   "source": [
    "# Function to return test hyperparameters - define the object function\n",
    "def optimize_ppo(trial): \n",
    "    return {\n",
    "        'n_steps':trial.suggest_categorical(\"n_steps\", [512, 1024, 2048]), #:trial.suggest_int('n_steps', 512, 4096),\n",
    "        'gamma':trial.suggest_float('gamma', 0.8, 0.9999),\n",
    "        'learning_rate':trial.suggest_float('learning_rate', 1e-5, 1e-4),\n",
    "        'clip_range':trial.suggest_float('clip_range', 0.1, 0.4),\n",
    "        'gae_lambda':trial.suggest_float('gae_lambda', 0.8, 0.99),\n",
    "        'batch_size':trial.suggest_categorical(\"batch_size\", [16, 32, 64]),\n",
    "        'ent_coef':trial.suggest_categorical('ent_coef', [0.0, 0.01, 0.05])\n",
    "    }"
   ]
  },
  {
   "cell_type": "code",
   "execution_count": 5,
   "id": "80382391-f3fe-410e-a077-87d933c320ee",
   "metadata": {},
   "outputs": [],
   "source": [
    "# Run a training loop and return mean reward \n",
    "def optimize_agent(trial):\n",
    "    try:\n",
    "        model_params = optimize_ppo(trial) \n",
    "\n",
    "        # Create environment \n",
    "        env = SnakeCnnEnv()\n",
    "        env = Monitor(env, LOG_DIR)\n",
    "        env = DummyVecEnv([lambda: env])\n",
    "        #env = VecFrameStack(env, 4, channels_order='first')\n",
    "        \n",
    "        # Create algo \n",
    "        model = PPO('MlpPolicy', env, tensorboard_log=LOG_DIR, verbose=0, **model_params)\n",
    "        \n",
    "        model.learn(total_timesteps=250000)\n",
    "\n",
    "        # Evaluate model \n",
    "        mean_reward, _ = evaluate_policy(model, env, n_eval_episodes=5)\n",
    "        env.close()\n",
    "\n",
    "        SAVE_PATH = os.path.join(OPT_DIR, 'trial_{}_best_model'.format(trial.number))\n",
    "        model.save(SAVE_PATH)\n",
    "\n",
    "        return mean_reward\n",
    "\n",
    "    except Exception as e:\n",
    "        print(e)\n",
    "        return -1000"
   ]
  },
  {
   "cell_type": "code",
   "execution_count": null,
   "id": "d9ce0920-d739-4c1d-bf41-56aa7ee2dd05",
   "metadata": {},
   "outputs": [],
   "source": [
    "# Creating the experiment,\n",
    "study = optuna.create_study(direction='maximize')\n",
    "study.optimize(optimize_agent, n_trials=10, n_jobs=1)"
   ]
  },
  {
   "cell_type": "code",
   "execution_count": null,
   "id": "fd9212c9-89c8-45f9-9ae0-3ad26a254100",
   "metadata": {},
   "outputs": [],
   "source": [
    "{'n_steps': 512,\n",
    " 'gamma': 0.9907046080717223,\n",
    " 'learning_rate': 3.1170077903648384e-05,\n",
    " 'clip_range': 0.18200075440617328,\n",
    " 'gae_lambda': 0.9554746351940955,\n",
    " 'batch_size': 32,\n",
    " 'ent_coef': 0.01}"
   ]
  },
  {
   "cell_type": "code",
   "execution_count": 7,
   "id": "eb76cd61-be0a-4e2d-9ac5-bf9c29ca91a4",
   "metadata": {},
   "outputs": [
    {
     "data": {
      "text/plain": [
       "{'n_steps': 512,\n",
       " 'gamma': 0.9907046080717223,\n",
       " 'learning_rate': 3.1170077903648384e-05,\n",
       " 'clip_range': 0.18200075440617328,\n",
       " 'gae_lambda': 0.9554746351940955,\n",
       " 'batch_size': 32,\n",
       " 'ent_coef': 0.01}"
      ]
     },
     "execution_count": 7,
     "metadata": {},
     "output_type": "execute_result"
    }
   ],
   "source": [
    "study.best_params"
   ]
  },
  {
   "cell_type": "code",
   "execution_count": null,
   "id": "c3f7af8b-71e1-4f99-9d0d-09172737a47c",
   "metadata": {},
   "outputs": [],
   "source": [
    "study.best_trial"
   ]
  },
  {
   "cell_type": "markdown",
   "id": "5092b4e8-2873-4b32-a39a-791b41d862af",
   "metadata": {},
   "source": [
    "# Setup Callback"
   ]
  },
  {
   "cell_type": "code",
   "execution_count": 4,
   "id": "74118ae5-6924-4061-8a51-bb290a5f4f15",
   "metadata": {},
   "outputs": [],
   "source": [
    "# Auto save models with best results\n",
    "class TrainAndLoggingCallback(BaseCallback):\n",
    "    \n",
    "    def __init__(self, check_freq, save_path, verbose=1):\n",
    "        super(TrainAndLoggingCallback, self).__init__(verbose)\n",
    "        self.check_freq = check_freq\n",
    "        self.save_path = save_path\n",
    "\n",
    "    def _init_callback(self):\n",
    "        if self.save_path is not None:\n",
    "            os.makedirs(self.save_path, exist_ok=True)\n",
    "\n",
    "    def _on_step(self):\n",
    "        if self.n_calls % self.check_freq == 0:\n",
    "            model_path = os.path.join(self.save_path, 'best_model_{}'.format(self.n_calls))\n",
    "            self.model.save(model_path)\n",
    "\n",
    "        return True"
   ]
  },
  {
   "cell_type": "code",
   "execution_count": 5,
   "id": "571849b2-e219-4e7a-8e38-3ad16732abb9",
   "metadata": {},
   "outputs": [],
   "source": [
    "callback = TrainAndLoggingCallback(check_freq=50000, save_path=CHECKPOINT_DIR)"
   ]
  },
  {
   "cell_type": "markdown",
   "id": "76611fe8-fa69-4c6a-8cb9-81661afe14ba",
   "metadata": {},
   "source": [
    "# Train Model"
   ]
  },
  {
   "cell_type": "code",
   "execution_count": 3,
   "id": "1cfb157a-dcc4-445e-804d-fc09bd68f6a3",
   "metadata": {},
   "outputs": [],
   "source": [
    "# Load best opt model\n",
    "model = PPO.load(os.path.join(OPT_DIR, 'trial_5_best_model'))"
   ]
  },
  {
   "cell_type": "code",
   "execution_count": 8,
   "id": "7cc54d5f-fe3a-48e7-ba75-96e15ea643a4",
   "metadata": {},
   "outputs": [],
   "source": [
    "# Create environment \n",
    "env = SnakeCnnEnv()\n",
    "env = Monitor(env, LOG_DIR)\n",
    "env = DummyVecEnv([lambda: env])\n",
    "#env = VecFrameStack(env, 4, channels_order='first')"
   ]
  },
  {
   "cell_type": "code",
   "execution_count": 9,
   "id": "2b8f9b7c-2d20-4f64-9f4a-3dd984454d0a",
   "metadata": {},
   "outputs": [],
   "source": [
    "model.set_env(env)"
   ]
  },
  {
   "cell_type": "code",
   "execution_count": null,
   "id": "d1c020ef-214a-4918-a9d1-2e7b03376903",
   "metadata": {},
   "outputs": [],
   "source": [
    "# Init new model with best opt params\n",
    "#model_params = study.best_params\n",
    "\n",
    "# Create algo \n",
    "#model = PPO('MlpPolicy', env, tensorboard_log=LOG_DIR, verbose=0, **model_params)"
   ]
  },
  {
   "cell_type": "code",
   "execution_count": null,
   "id": "845752b1-cf9a-4c0e-80c7-bc1c4ad6d89d",
   "metadata": {},
   "outputs": [],
   "source": [
    "# Kick off training\n",
    "model.learn(total_timesteps=100000, callback=callback)"
   ]
  },
  {
   "cell_type": "markdown",
   "id": "283c6d25-0ea7-4437-aa50-fa9d95882e98",
   "metadata": {},
   "source": [
    "# Draft"
   ]
  },
  {
   "cell_type": "code",
   "execution_count": null,
   "id": "3da1c052-f79a-4d4f-bc47-1ee9472cb73a",
   "metadata": {},
   "outputs": [],
   "source": [
    "# Reload previous weights from HPO\n",
    "model.load(os.path.join(OPT_DIR, 'trial_4_best_model'))"
   ]
  },
  {
   "cell_type": "code",
   "execution_count": null,
   "id": "2b65121a-59f9-42af-afff-c6266dd4fc17",
   "metadata": {},
   "outputs": [],
   "source": [
    "model = PPO.load(os.path.join(CHECKPOINT_DIR, 'best_model_990000'))"
   ]
  },
  {
   "cell_type": "code",
   "execution_count": null,
   "id": "d0f1c062-18bc-4580-940e-9b75780a059b",
   "metadata": {},
   "outputs": [],
   "source": [
    "model = PPO.load('best36_02')"
   ]
  },
  {
   "cell_type": "code",
   "execution_count": null,
   "id": "aab15bb7-ceeb-4dc0-af8b-c0d0596d9454",
   "metadata": {},
   "outputs": [],
   "source": [
    "model.save('best36_02')"
   ]
  },
  {
   "cell_type": "code",
   "execution_count": null,
   "id": "9b3c6a3b-d275-4cf2-9c69-a6c32056a46c",
   "metadata": {},
   "outputs": [],
   "source": [
    "#model.load(os.path.join(TRAIN_DIR, 'best_model_510000'))\n",
    "model = PPO.load(os.path.join(TRAIN_DIR, 'best_model_510000'))\n",
    "params = model.get_parameters()\n",
    "\n",
    "#policy_kwargs = dict(\n",
    "#    features_extractor_class=CustomCNN#,\n",
    "#    #normalize_images=False\n",
    "#)\n",
    "\n",
    "model_params = {\n",
    "    'n_steps': 2048,\n",
    "    'gamma': 0.9144123932704298,\n",
    "    'learning_rate': 3.585320520367126e-05,\n",
    "    'clip_range': 0.2692047740205521,\n",
    "    'gae_lambda': 0.8326092523979186,\n",
    "    'batch_size': 32\n",
    "}\n",
    "\n",
    "\n",
    "# Create algo \n",
    "model = PPO('CnnPolicy', env, tensorboard_log=LOG_DIR, verbose=0, **model_params) # policy_kwargs=policy_kwargs,\n",
    "model.set_parameters(params)"
   ]
  },
  {
   "cell_type": "code",
   "execution_count": null,
   "id": "0d92075e-c2fe-4534-b5d5-17353f8904c0",
   "metadata": {},
   "outputs": [],
   "source": [
    "model.set_env(env)"
   ]
  },
  {
   "cell_type": "code",
   "execution_count": null,
   "id": "f6d3e90e-3e81-475c-9856-9bca9bf2b57d",
   "metadata": {},
   "outputs": [],
   "source": [
    "env = SnakeCnnEnv()\n",
    "env = Monitor(env, LOG_DIR)\n",
    "env = DummyVecEnv([lambda: env])\n",
    "\n",
    "CHECKPOINT_DIR = './train_05/'\n",
    "callback = TrainAndLoggingCallback(check_freq=25000, save_path=CHECKPOINT_DIR)\n",
    "\n",
    "model.set_env(env)\n",
    "# Kick off training\n",
    "model.learn(total_timesteps=5000000, callback=callback)\n",
    "# model.learn(total_timestep=5000000) "
   ]
  },
  {
   "cell_type": "markdown",
   "id": "1aacd51a-c361-43c2-bcf0-0c68f255d4bc",
   "metadata": {},
   "source": [
    "# Custom Policy (Draft)"
   ]
  },
  {
   "cell_type": "code",
   "execution_count": null,
   "id": "03859005-1eb7-401f-a3b8-a53943b774aa",
   "metadata": {},
   "outputs": [],
   "source": [
    "# Neural network for predicting action values\n",
    "class CustomCNN(BaseFeaturesExtractor):\n",
    "    def __init__(self, observation_space: gym.spaces.Box, features_dim: int=128):\n",
    "        super(CustomCNN, self).__init__(observation_space, features_dim)\n",
    "        # CxHxW images (channels first)\n",
    "        n_input_channels = observation_space.shape[0]\n",
    "        self.cnn = nn.Sequential(\n",
    "            nn.Conv2d(n_input_channels, 64, kernel_size=3, stride=1, padding=1),\n",
    "            nn.ReLU(),\n",
    "            nn.Conv2d(64, 64, kernel_size=3, stride=1, padding=1),\n",
    "            nn.ReLU(),\n",
    "            nn.Conv2d(64, 64, kernel_size=3, stride=1, padding=0),\n",
    "            nn.ReLU(),\n",
    "            #nn.Conv2d(64,  4, kernel_size=1, stride=1, padding=0),\n",
    "            #nn.ReLU(),\n",
    "            #nn.Conv2d(64, 64, kernel_size=3, stride=1, padding=0),\n",
    "            #nn.ReLU(),\n",
    "            nn.Flatten(),\n",
    "        )\n",
    "\n",
    "        # Compute shape by doing one forward pass\n",
    "        with th.no_grad():\n",
    "            n_flatten = self.cnn(\n",
    "                th.as_tensor(observation_space.sample()[None]).float()\n",
    "            ).shape[1]\n",
    "\n",
    "        self.linear = nn.Sequential(nn.Linear(n_flatten, features_dim), nn.ReLU())\n",
    "\n",
    "    def forward(self, observations: th.Tensor) -> th.Tensor:\n",
    "        return self.linear(self.cnn(observations))\n",
    "\n",
    "model_params = {\n",
    "    #'n_steps': 1024,\n",
    "    #'gamma': 0.9076135656146878,\n",
    "    'learning_rate': 3.0e-05,\n",
    "    #'clip_range': 0.12,\n",
    "    #'gae_lambda': 0.9362730857937813,\n",
    "    #'batch_size': 32,\n",
    "    'ent_coef': 0.01\n",
    "}\n",
    "\n",
    "policy_kwargs = dict(\n",
    "    features_extractor_class=CustomCNN#,\n",
    "    #normalize_images=False\n",
    ")\n",
    "\n",
    "#env = SnakeCnnEnv()\n",
    "#model = PPO(\"CnnPolicy\", env, verbose=1, policy_kwargs=policy_kwargs, **model_params)"
   ]
  }
 ],
 "metadata": {
  "kernelspec": {
   "display_name": "Python 3 (ipykernel)",
   "language": "python",
   "name": "python3"
  },
  "language_info": {
   "codemirror_mode": {
    "name": "ipython",
    "version": 3
   },
   "file_extension": ".py",
   "mimetype": "text/x-python",
   "name": "python",
   "nbconvert_exporter": "python",
   "pygments_lexer": "ipython3",
   "version": "3.10.10"
  }
 },
 "nbformat": 4,
 "nbformat_minor": 5
}
