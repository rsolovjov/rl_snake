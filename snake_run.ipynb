{
 "cells": [
  {
   "cell_type": "markdown",
   "id": "8f085d8a-5527-465a-a4fc-4dcf722365cb",
   "metadata": {},
   "source": [
    "# Import"
   ]
  },
  {
   "cell_type": "code",
   "execution_count": 1,
   "id": "043a9d8e-fbc9-4d3b-9c5c-e896f573a117",
   "metadata": {},
   "outputs": [
    {
     "name": "stderr",
     "output_type": "stream",
     "text": [
      "/opt/homebrew/Caskroom/miniforge/base/lib/python3.10/site-packages/tqdm/auto.py:21: TqdmWarning: IProgress not found. Please update jupyter and ipywidgets. See https://ipywidgets.readthedocs.io/en/stable/user_install.html\n",
      "  from .autonotebook import tqdm as notebook_tqdm\n"
     ]
    }
   ],
   "source": [
    "#import gym\n",
    "import gymnasium as gym\n",
    "from gymnasium import spaces\n",
    "import numpy as np\n",
    "\n",
    "import torch as th\n",
    "import torch.nn as nn\n",
    "\n",
    "import math\n",
    "\n",
    "from stable_baselines3 import PPO\n",
    "# Bring in the eval policy method for metric calculation\n",
    "from stable_baselines3.common.evaluation import evaluate_policy\n",
    "# Import the sb3 monitor for logging \n",
    "from stable_baselines3.common.monitor import Monitor\n",
    "# Import the vec wrappers to vectorize and frame stack\n",
    "from stable_baselines3.common.vec_env import DummyVecEnv, VecFrameStack\n",
    "# Import base callback \n",
    "from stable_baselines3.common.callbacks import BaseCallback\n",
    "from stable_baselines3.common.env_checker import check_env\n",
    "\n",
    "# Importing the optimzation frame - HPO\n",
    "import optuna\n",
    "# Import os to deal with filepaths\n",
    "import os\n",
    "\n",
    "from snake_game import Snake\n",
    "from env import SnakeCnnEnv"
   ]
  },
  {
   "cell_type": "markdown",
   "id": "e4a30243-4107-4cdc-9edc-247748f2c5ad",
   "metadata": {},
   "source": [
    "# Dirs"
   ]
  },
  {
   "cell_type": "code",
   "execution_count": 2,
   "id": "30f55417-271b-4e09-9b02-189aaf81d83d",
   "metadata": {},
   "outputs": [],
   "source": [
    "LOG_DIR = './logs/'\n",
    "OPT_DIR = './opt/'\n",
    "TRAIN_DIR = './train/'\n",
    "SAVE_PATH = os.path.join(OPT_DIR, 'trial_{}_best_model'.format(1))\n",
    "CHECKPOINT_DIR = './train/'"
   ]
  },
  {
   "cell_type": "markdown",
   "id": "d8724655-8403-414c-8c2f-6a8ddfb1e893",
   "metadata": {},
   "source": [
    "# Visualization"
   ]
  },
  {
   "cell_type": "code",
   "execution_count": 3,
   "id": "4c4ca389-e49a-410b-86d3-3dcabbbef9ee",
   "metadata": {},
   "outputs": [
    {
     "name": "stderr",
     "output_type": "stream",
     "text": [
      "/opt/homebrew/Caskroom/miniforge/base/lib/python3.10/site-packages/stable_baselines3/common/save_util.py:166: UserWarning: Could not deserialize object clip_range. Consider using `custom_objects` argument to replace this object.\n",
      "Exception: code expected at most 16 arguments, got 18\n",
      "  warnings.warn(\n",
      "/opt/homebrew/Caskroom/miniforge/base/lib/python3.10/site-packages/stable_baselines3/common/save_util.py:166: UserWarning: Could not deserialize object lr_schedule. Consider using `custom_objects` argument to replace this object.\n",
      "Exception: code expected at most 16 arguments, got 18\n",
      "  warnings.warn(\n"
     ]
    }
   ],
   "source": [
    "model = PPO.load(os.path.join(CHECKPOINT_DIR, 'best_model_3000000'))\n",
    "#model = PPO.load('best36_02')\n",
    "\n",
    "env = SnakeCnnEnv()\n",
    "#env = Monitor(env, LOG_DIR)\n",
    "#env = DummyVecEnv([lambda: env])\n",
    "\n",
    "model.set_env(env)"
   ]
  },
  {
   "cell_type": "code",
   "execution_count": 5,
   "id": "f285b83e-bafd-4cef-a84b-b7df90a3942a",
   "metadata": {},
   "outputs": [],
   "source": [
    "obs, _ = env.reset(0)\n",
    "\n",
    "# Set flag to flase\n",
    "done = False\n",
    "trunc = False\n",
    "for game in range(1):\n",
    "    while not done and not trunc:\n",
    "        if done or trunc:\n",
    "            obs, _= env.reset()\n",
    "        env.render()\n",
    "        #time.sleep(0.1)\n",
    "        action = model.predict(obs)\n",
    "        obs, reward, done, trunc, _ = env.step(action[0])\n",
    "        \n",
    "env.render()"
   ]
  },
  {
   "cell_type": "markdown",
   "id": "17e626bc-9993-40a7-a40a-6d5f7931659d",
   "metadata": {},
   "source": [
    "# Draft"
   ]
  },
  {
   "cell_type": "code",
   "execution_count": null,
   "id": "b54f43c8-c1dc-403e-8de3-5b61ac569530",
   "metadata": {},
   "outputs": [],
   "source": [
    "env = SnakeCnnEnv()\n",
    "env = Monitor(env, LOG_DIR)\n",
    "env = DummyVecEnv([lambda: env])"
   ]
  },
  {
   "cell_type": "code",
   "execution_count": null,
   "id": "9797708b-4fc7-4503-8101-bd0ee5c3d384",
   "metadata": {},
   "outputs": [],
   "source": [
    "model = PPO('MlpPolicy', env) #, tensorboard_log=LOG_DIR, verbose=0, **model_params)"
   ]
  },
  {
   "cell_type": "code",
   "execution_count": null,
   "id": "93343ae8-2477-4ffb-b042-82e569ac5b02",
   "metadata": {},
   "outputs": [],
   "source": [
    "action = model.predict(obs)\n",
    "obs, reward, done, trunc, info = env.step(action[0])\n",
    "#env.render()\n",
    "print(action)\n",
    "print(obs[0][0])\n",
    "#print(\"board {}\".format(obs))"
   ]
  },
  {
   "cell_type": "code",
   "execution_count": null,
   "id": "212f4772-ee28-43b0-acc0-e341ee9db3a6",
   "metadata": {},
   "outputs": [],
   "source": []
  },
  {
   "cell_type": "code",
   "execution_count": null,
   "id": "2d9dd2f6-5841-4758-a7fb-e40266e862a3",
   "metadata": {},
   "outputs": [],
   "source": [
    "import tensorflow as tf\n",
    "import matplotlib.pyplot as plt\n",
    "from matplotlib import gridspec\n",
    "#import learntools.computer_vision.visiontools as visiontools\n",
    "\n",
    "plt.rc('figure', autolayout=True)\n",
    "plt.rc('axes', labelweight='bold', labelsize='large',\n",
    "       titleweight='bold', titlesize=18, titlepad=10)\n",
    "plt.rc('image', cmap='magma')"
   ]
  },
  {
   "cell_type": "code",
   "execution_count": null,
   "id": "66b30d5d-306d-429e-bc46-f3f79db1533a",
   "metadata": {},
   "outputs": [],
   "source": [
    "obs, _ = env.reset()"
   ]
  },
  {
   "cell_type": "code",
   "execution_count": null,
   "id": "bd87f867-932c-4e0e-93d4-fd7f4a92792e",
   "metadata": {},
   "outputs": [],
   "source": []
  },
  {
   "cell_type": "code",
   "execution_count": null,
   "id": "36111917-3073-4aa7-bfa7-917e2f79670e",
   "metadata": {},
   "outputs": [],
   "source": [
    "obs, reward, done, trunc, info = env.step(0)\n",
    "# Show what we have so far\n",
    "plt.figure(figsize=(7, 6))\n",
    "plt.subplot(131)\n",
    "plt.imshow(tf.squeeze(obs), cmap='gray')"
   ]
  },
  {
   "cell_type": "code",
   "execution_count": null,
   "id": "fda9592c-f1e6-4814-a1ef-ec42a0bdfc6a",
   "metadata": {},
   "outputs": [],
   "source": [
    "plt.imshow(tf.squeeze(obs), cmap='gray')"
   ]
  },
  {
   "cell_type": "markdown",
   "id": "6d6a71f1-1fe3-42a7-b0c7-647b56d5fcec",
   "metadata": {},
   "source": []
  }
 ],
 "metadata": {
  "kernelspec": {
   "display_name": "Python 3 (ipykernel)",
   "language": "python",
   "name": "python3"
  },
  "language_info": {
   "codemirror_mode": {
    "name": "ipython",
    "version": 3
   },
   "file_extension": ".py",
   "mimetype": "text/x-python",
   "name": "python",
   "nbconvert_exporter": "python",
   "pygments_lexer": "ipython3",
   "version": "3.10.10"
  }
 },
 "nbformat": 4,
 "nbformat_minor": 5
}
